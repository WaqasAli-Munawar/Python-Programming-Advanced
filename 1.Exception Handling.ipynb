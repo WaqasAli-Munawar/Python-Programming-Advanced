{
 "cells": [
  {
   "cell_type": "markdown",
   "metadata": {},
   "source": [
    "In 1991, a group of Taiwanese researchers set out to determine the ideal length for chopsticks. More than 30 people participated in the experiment by trying out chopsticks of various lengths. The researchers' approach ensured that the participants' different skill levels and length preferences didn't skew the results.\n",
    "\n",
    "After an exciting few days of picking up peanuts and placing them into cups, the researchers gathered enough data to determine which chopsticks are most efficient. Their findings form our data set.\n",
    "\n",
    "The first column contains the \"Food pinching efficiency\" measurement, which is a decimal value. The higher the value, the better the chopstick.\n",
    "\n",
    "The second column, \"Individual,\" holds unique identifiers for the person who used the chopstick.\n",
    "\n",
    "The third column records the \"Chopstick length\" measurement in millimeters.\n",
    "\n",
    "Each row of our data set represents a trial in which a participant used a chopstick of a certain length. It records the food pinching efficiency for a specific individual and chopstick length."
   ]
  },
  {
   "cell_type": "code",
   "execution_count": 2,
   "metadata": {},
   "outputs": [],
   "source": [
    "from csv import reader\n",
    "\n",
    "chopsticks = list(reader(open(\"chopsticks.csv\")))"
   ]
  },
  {
   "cell_type": "code",
   "execution_count": 3,
   "metadata": {},
   "outputs": [],
   "source": [
    "headers = chopsticks[0]\n",
    "chopsticks = chopsticks[1:]"
   ]
  },
  {
   "cell_type": "markdown",
   "metadata": {},
   "source": [
    "Let's think a bit about how we should structure our code. We want to answer questions like:\n",
    "\n",
    "* Which chopstick is more efficient?\n",
    "* Which chopstick has the most consistent results?\n",
    "* Other similar questions\n",
    "\n",
    "All of our questions are specific to certain chopstick lengths. It would be useful to have a Chopstick class that has methods for computing these values, based on the lengths.\n",
    "\n",
    "Before we can do that though, we need a way to store the data for each chopstick. While there are a few ways to go about this, we'll create an entire Trial class that stores information about each row of data."
   ]
  },
  {
   "cell_type": "code",
   "execution_count": 4,
   "metadata": {},
   "outputs": [],
   "source": [
    "class Trial(object):\n",
    "    def __init__(self, datarow):\n",
    "        self.efficiency = float(datarow[0])\n",
    "        self.individual = int(datarow[1])\n",
    "        self.chopstick_length = int(datarow[2])"
   ]
  },
  {
   "cell_type": "code",
   "execution_count": 5,
   "metadata": {},
   "outputs": [],
   "source": [
    "first_trial = Trial(chopsticks[0]) # instance of Trial class"
   ]
  },
  {
   "cell_type": "markdown",
   "metadata": {},
   "source": [
    "Let's also create a class named Chopstick whose instance properties contain information about each chopstick."
   ]
  },
  {
   "cell_type": "code",
   "execution_count": 6,
   "metadata": {},
   "outputs": [],
   "source": [
    "class Chopstick(object):\n",
    "    def __init__(self, length):\n",
    "        self.length = length\n",
    "        self.trials = []\n",
    "        for row in chopsticks:\n",
    "            if int(row[2]) == self.length:\n",
    "                self.trials.append(Trial(row))\n",
    "    def avg_efficiency(self):\n",
    "        efficiency_sum = 0\n",
    "        for trial in self.trials:\n",
    "            efficiency_sum += trial.efficiency\n",
    "        return efficiency_sum/len(self.trials)"
   ]
  },
  {
   "cell_type": "code",
   "execution_count": 7,
   "metadata": {},
   "outputs": [
    {
     "name": "stdout",
     "output_type": "stream",
     "text": [
      "31\n",
      "25.483870967741932\n"
     ]
    }
   ],
   "source": [
    "medium_chopstick = Chopstick(240)\n",
    "avg_eff_210 = Chopstick(210).avg_efficiency()\n",
    "print(len(medium_chopstick.trials))\n",
    "print(avg_eff_210)"
   ]
  },
  {
   "cell_type": "markdown",
   "metadata": {},
   "source": [
    "# Exception handling"
   ]
  },
  {
   "cell_type": "markdown",
   "metadata": {},
   "source": [
    "When programming, we usually try to avoid writing code that will generate errors. Even so, errors can be quite useful to us because they tell us what went wrong with our code. We can use this information to improve our program's logic. If part of our code fails, we can check why it failed, and execute some other code instead.\n",
    "\n",
    "We need a way to handle errors gracefully during code execution so that our program doesn't crash, however. This is where exception handling comes into play.\n",
    "\n",
    "An exception is a broad characterization of what can go wrong with a program. When a statement is syntactically correct but something goes wrong during execution (a division by zero occurs or the interpreter tries to read a non-existent file, for example), the compiler raises an exception. An important distinction is that exceptions occur during the execution of the program, whereas syntax errors such as forgetting a colon or misspelling a variable don't, because our code won't run to begin with."
   ]
  },
  {
   "cell_type": "markdown",
   "metadata": {},
   "source": [
    "Typically when we write Python code, the interpreter will raise an exception (report an error) and then continue executing the rest of the code. We'll see the exception, but our program will keep running as if it never happened. This is undesireable, because our program probably relies on the previous statements to succeed.\n",
    "\n",
    "We want to handle exceptions by observing when they occur and reacting to them accordingly instead. This way, every piece of code that executes is deliberate, and we have complete control over what our program does. In Python, we use a **try-except** block to handle exceptions."
   ]
  },
  {
   "cell_type": "raw",
   "metadata": {},
   "source": [
    "try:\n",
    "    impossible_value = int(\"Not an integer\")\n",
    "except ValueError:\n",
    "    print(\"Cannot convert string to integer\")"
   ]
  },
  {
   "cell_type": "markdown",
   "metadata": {},
   "source": [
    "When the Python interpreter sees this code, it attempts to execute the try section of the statement. If the interpreter raises any exceptions within the try section (if we hit some sort of error), our code will attempt to catch it, or handle it gracefully with different code. In our example, the except statement is that different code. It will catch the exception and print out our message because we anticipated that a ValueError could occur, and built the error handling in."
   ]
  },
  {
   "cell_type": "raw",
   "metadata": {},
   "source": [
    "Now consider this code block:\n",
    "\n",
    "try:\n",
    "    f = open(\"data.txt\", \"r\")\n",
    "    s = f.readline()\n",
    "    i = float(s)\n",
    "except ValueError:\n",
    "    print(\"Cannot convert data to floating point value\")\n",
    "except IOError:\n",
    "    print(\"Could not read file\")"
   ]
  },
  {
   "cell_type": "markdown",
   "metadata": {},
   "source": [
    "Here, we caught a couple different types of exceptions that we suspected could arise during the execution of the try block.\n",
    "\n",
    "With Python, we have the ability to catch any exception by writing an except: section without specifying a particular error. This is a sort of \"catch-all\" that works like an else: section. Using a catch-all for exceptions is usually bad practice, however. Trying to catch every exception without being specific is dangerous because then we can't execute exception-specific logic, and it means we may not understand our code as fully as we should.\n",
    "\n",
    "If we catch every exception in a single statement, we can't react to the exception that occurred because we have no idea what type it is. Instead, we should try catching as many specific exceptions as we possibly can. To do this, we need to think about the exceptions our code might cause, then catch and react to each one individually.\n",
    "\n",
    "That being said, there are still times when implementing a catch-all after we've caught all of the expected exceptions is a good idea. We may want to catch the unknown exception, store it somewhere so we can find what went wrong later on, and then change our code to handle that particular exception."
   ]
  },
  {
   "cell_type": "markdown",
   "metadata": {},
   "source": [
    "We have a working program that can find the average efficiency for a length of chopstick. We need to account for what happens when we read in bad data, however. We'll handle this exception in our Trial class, because that's the class that reads in the values in our data set."
   ]
  },
  {
   "cell_type": "code",
   "execution_count": 8,
   "metadata": {},
   "outputs": [],
   "source": [
    "class Trial(object):\n",
    "    def __init__(self, datarow):\n",
    "        try:\n",
    "            self.efficiency = float(datarow[0])\n",
    "            self.individual = int(datarow[1])\n",
    "            self.chopstick_length = int(datarow[2])\n",
    "        except ValueError:\n",
    "            self.efficiency = -1.0\n",
    "            self.individual = -1\n",
    "            self.chopstick_length = -1\n",
    "\n",
    "bad_trial = Trial(chopsticks[-1])"
   ]
  },
  {
   "cell_type": "code",
   "execution_count": 9,
   "metadata": {},
   "outputs": [
    {
     "data": {
      "text/plain": [
       "27.52"
      ]
     },
     "execution_count": 9,
     "metadata": {},
     "output_type": "execute_result"
    }
   ],
   "source": [
    "bad_trial.efficiency"
   ]
  },
  {
   "cell_type": "markdown",
   "metadata": {},
   "source": [
    "While we wrote exceptions for handling bad data in the Trial class, we haven't done the same for the Chopstick class."
   ]
  },
  {
   "cell_type": "code",
   "execution_count": 10,
   "metadata": {},
   "outputs": [],
   "source": [
    "class Chopstick(object):\n",
    "    def __init__(self, length):\n",
    "        self.length = length\n",
    "        self.trials = []\n",
    "        for row in chopsticks:\n",
    "            if int(row[2]) == self.length:\n",
    "                trial = Trial(row)\n",
    "                # Verify that the data is good\n",
    "                if trial.efficiency != -1 and trial.individual != -1 and trial.chopstick_length != -1:\n",
    "                        self.trials.append(trial)\n",
    "    def num_trials(self):\n",
    "        return len(self.trials)\n",
    "    def avg_efficiency(self):\n",
    "        efficiency_sum = 0\n",
    "        for trial in self.trials:\n",
    "            efficiency_sum += trial.efficiency\n",
    "        return efficiency_sum / self.num_trials()"
   ]
  },
  {
   "cell_type": "markdown",
   "metadata": {},
   "source": [
    "When we try to find the average efficiency for a chopstick length that isn't in our data set, we end up dividing by zero in our avg_efficiency method. Fortunately, this throws a exception, and we can catch it."
   ]
  },
  {
   "cell_type": "code",
   "execution_count": 11,
   "metadata": {},
   "outputs": [],
   "source": [
    "class Chopstick(object):\n",
    "    def __init__(self, length):\n",
    "        self.length = length\n",
    "        self.trials = []\n",
    "        for row in chopsticks:\n",
    "            if int(row[2]) == self.length:\n",
    "                trial = Trial(row)\n",
    "                if trial.individual >= 0:\n",
    "                    self.trials.append(trial)\n",
    "    def num_trials(self):\n",
    "        return len(self.trials)\n",
    "    def avg_efficiency(self):\n",
    "        efficiency_sum = 0\n",
    "        for trial in self.trials:\n",
    "            efficiency_sum += trial.efficiency\n",
    "        try:\n",
    "            return efficiency_sum / self.num_trials()\n",
    "        except ZeroDivisionError:\n",
    "                return -1.0"
   ]
  },
  {
   "cell_type": "code",
   "execution_count": 12,
   "metadata": {},
   "outputs": [],
   "source": [
    "bad_average = Chopstick(100).avg_efficiency()"
   ]
  },
  {
   "cell_type": "markdown",
   "metadata": {},
   "source": [
    "Now it's time to answer our question. We want to determine which chopstick length is best by looking for the highest average food pinching efficiency. Because we defined our average efficiencies to be -1.0 for chopsticks with bad data, those averages won't interrupt our calculations. 0 is the lowest possible average efficiency, so -1.0 shouldn't be an issue."
   ]
  },
  {
   "cell_type": "code",
   "execution_count": 13,
   "metadata": {},
   "outputs": [],
   "source": [
    "chopstick_lengths = [180, 195, 210, 225, 240, 255, 270, 285, 300, 315, 330]\n",
    "chopstick_list = [Chopstick(length) for length in chopstick_lengths]"
   ]
  },
  {
   "cell_type": "markdown",
   "metadata": {},
   "source": [
    "Now let's overload the comparison operators for the Chopstick class so we can take advantage of built-in Python functions."
   ]
  },
  {
   "cell_type": "code",
   "execution_count": 14,
   "metadata": {},
   "outputs": [],
   "source": [
    "class Chopstick(object):\n",
    "    def __init__(self, length):\n",
    "        self.length = length\n",
    "        self.trials = []\n",
    "        for row in chopsticks:\n",
    "            if int(row[2]) == self.length:\n",
    "                trial = Trial(row)\n",
    "                if trial.individual >= 0:\n",
    "                    self.trials.append(trial)\n",
    "    def num_trials(self):\n",
    "        return len(self.trials)\n",
    "    def avg_efficiency(self):\n",
    "        efficiency_sum = 0\n",
    "        for trial in self.trials:\n",
    "            efficiency_sum += trial.efficiency\n",
    "        try:\n",
    "            return efficiency_sum / self.num_trials()\n",
    "        except ZeroDivisionError:\n",
    "            return -1.0\n",
    "    def __lt__(self, other):\n",
    "        return self.avg_efficiency() < other.avg_efficiency()\n",
    "    def __gt__(self, other):\n",
    "        return self.avg_efficiency() > other.avg_efficiency()\n",
    "    def __le__(self, other):\n",
    "        return self.avg_efficiency() <= other.avg_efficiency()\n",
    "    def __ge__(self, other):\n",
    "        return self.avg_efficiency() >= other.avg_efficiency()\n",
    "    def __eq__(self, other):\n",
    "        return self.avg_efficiency() == other.avg_efficiency()\n",
    "    def __ne__(self, other):\n",
    "        return self.avg_efficiency() != other.avg_efficiency()"
   ]
  },
  {
   "cell_type": "code",
   "execution_count": 15,
   "metadata": {},
   "outputs": [],
   "source": [
    "chopstick_list = [Chopstick(length) for length in chopstick_lengths]\n",
    "most_efficient = max(chopstick_list)"
   ]
  },
  {
   "cell_type": "code",
   "execution_count": 16,
   "metadata": {},
   "outputs": [
    {
     "data": {
      "text/plain": [
       "<__main__.Chopstick at 0x1aaafc61c18>"
      ]
     },
     "execution_count": 16,
     "metadata": {},
     "output_type": "execute_result"
    }
   ],
   "source": [
    "most_efficient"
   ]
  },
  {
   "cell_type": "code",
   "execution_count": null,
   "metadata": {},
   "outputs": [],
   "source": []
  }
 ],
 "metadata": {
  "kernelspec": {
   "display_name": "Python 3",
   "language": "python",
   "name": "python3"
  },
  "language_info": {
   "codemirror_mode": {
    "name": "ipython",
    "version": 3
   },
   "file_extension": ".py",
   "mimetype": "text/x-python",
   "name": "python",
   "nbconvert_exporter": "python",
   "pygments_lexer": "ipython3",
   "version": "3.7.3"
  }
 },
 "nbformat": 4,
 "nbformat_minor": 2
}
